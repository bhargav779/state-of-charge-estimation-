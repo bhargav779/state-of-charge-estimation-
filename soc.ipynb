{
  "cells": [
    {
      "cell_type": "markdown",
      "metadata": {
        "id": "view-in-github",
        "colab_type": "text"
      },
      "source": [
        "<a href=\"https://colab.research.google.com/github/bhargav779/state-of-charge-estimation-/blob/main/soc.ipynb\" target=\"_parent\"><img src=\"https://colab.research.google.com/assets/colab-badge.svg\" alt=\"Open In Colab\"/></a>"
      ]
    },
    {
      "cell_type": "code",
      "execution_count": null,
      "metadata": {
        "id": "lKEn8XRDlpne"
      },
      "outputs": [],
      "source": []
    },
    {
      "cell_type": "code",
      "execution_count": null,
      "metadata": {
        "colab": {
          "base_uri": "https://localhost:8080/"
        },
        "id": "Lj6NWeDLPY3b",
        "outputId": "0f1a32ae-f05e-41ac-91dd-e7a1abb18315"
      },
      "outputs": [
        {
          "output_type": "stream",
          "name": "stdout",
          "text": [
            "cp: missing destination file operand after 'Battery_Data'\n",
            "Try 'cp --help' for more information.\n"
          ]
        }
      ],
      "source": [
        "cp Battery_Data"
      ]
    },
    {
      "cell_type": "code",
      "execution_count": null,
      "metadata": {
        "id": "iGUc09Hapk7i",
        "colab": {
          "base_uri": "https://localhost:8080/"
        },
        "outputId": "1769ea1a-bb5e-47b8-aff6-d4b15954b13d"
      },
      "outputs": [
        {
          "output_type": "stream",
          "name": "stdout",
          "text": [
            "Mounted at /mntDrive\n"
          ]
        }
      ],
      "source": [
        "\n",
        "from google.colab import drive\n",
        "drive.mount('/mntDrive')"
      ]
    },
    {
      "cell_type": "code",
      "execution_count": null,
      "metadata": {
        "colab": {
          "base_uri": "https://localhost:8080/"
        },
        "id": "m7By5bJAQpbL",
        "outputId": "aec9bd4d-5dea-4b09-83f3-290415697602"
      },
      "outputs": [
        {
          "output_type": "stream",
          "name": "stdout",
          "text": [
            "Mounted at /content/drive\n"
          ]
        }
      ],
      "source": [
        "from google.colab import drive\n",
        "drive.mount('/content/drive')"
      ]
    },
    {
      "cell_type": "code",
      "execution_count": null,
      "metadata": {
        "colab": {
          "base_uri": "https://localhost:8080/"
        },
        "id": "UF2YdPNmy0CI",
        "outputId": "1692955d-252d-456c-8970-55661bd9b82d"
      },
      "outputs": [
        {
          "output_type": "stream",
          "name": "stdout",
          "text": [
            "Connected to TPU\n"
          ]
        }
      ],
      "source": [
        "\n",
        "import os\n",
        "  \n",
        "if 'COLAB_TPU_ADDR' not in os.environ:\n",
        "  print('Not connected to TPU')\n",
        "else:\n",
        "  print(\"Connected to TPU\")"
      ]
    },
    {
      "cell_type": "code",
      "execution_count": null,
      "metadata": {
        "id": "dEwcO-cwUz9P"
      },
      "outputs": [],
      "source": [
        "from sklearn import preprocessing\n",
        "from google.colab import files\n",
        "from itertools import cycle\n",
        "from matplotlib import axis\n",
        "from sklearn.pipeline import make_pipeline\n",
        "import pandas as pd\n",
        "import numpy as np \n",
        "import xgboost as xg\n",
        "from sklearn.svm import SVR\n",
        "from sklearn import linear_model\n",
        "from sklearn.metrics import confusion_matrix\n",
        "from sklearn.linear_model import ElasticNet\n",
        "from sklearn.tree import DecisionTreeClassifier\n",
        "from sklearn.neighbors import KNeighborsRegressor\n",
        "from sklearn.metrics import accuracy_score\n",
        "from sklearn.metrics import classification_report\n",
        "from sklearn.metrics import mean_absolute_error\n",
        "from sklearn.linear_model import LogisticRegression\n",
        "from sklearn.metrics import mean_squared_error\n",
        "from sklearn.linear_model import BayesianRidge\n",
        "from sklearn.linear_model import PoissonRegressor\n",
        "from sklearn.linear_model import Ridge\n",
        "from sklearn.linear_model import Lasso\n",
        "from sklearn.linear_model import LinearRegression\n",
        "from scipy import integrate\n",
        "from sklearn.tree import DecisionTreeRegressor\n",
        "from sklearn.preprocessing import PolynomialFeatures\n",
        "from sklearn import preprocessing\n",
        "from sklearn import utils\n",
        "from sklearn.ensemble import RandomForestRegressor\n",
        "from sklearn.preprocessing import StandardScaler\n",
        "import matplotlib.pyplot as plt\n",
        "import math \n",
        "from sklearn.feature_selection import SelectFromModel\n",
        "from sklearn.model_selection import train_test_split\n",
        "from sklearn.metrics import r2_score\n",
        "\n",
        "df5DST = pd.read_excel('/content/drive/MyDrive/Prashant_Data-20220617T061411Z-001/Prashant_Data/5.xlsx',sheet_name='FUDS')\n",
        "df5DST.insert(5,'temp',5)\n",
        "df5DST['Current']=df5DST['Current'].div(1000).round(4)\n",
        "sum_current = pd.DataFrame(integrate.cumtrapz(df5DST['Current']))\n",
        "sum_current=sum_current.fillna(sum_current.mean())\n",
        "df5DST['sum_current']=sum_current\n",
        "dfN5DST = pd.read_excel('/content/drive/MyDrive/Prashant_Data-20220617T061411Z-001/Prashant_Data/N5.xlsx',sheet_name='FUDS')\n",
        "dfN5DST.insert(5,'temp',-5)\n",
        "dfN5DST['Current']=dfN5DST['Current'].div(1000).round(4)\n",
        "sum_current = pd.DataFrame(integrate.cumtrapz(dfN5DST['Current']))\n",
        "sum_current=sum_current.fillna(sum_current.mean())\n",
        "dfN5DST['sum_current']=sum_current\n",
        "df45DST=pd.read_excel('/content/drive/MyDrive/Prashant_Data-20220617T061411Z-001/Prashant_Data/45.xlsx',sheet_name='FUDS')\n",
        "df45DST.insert(5,'temp',45)\n",
        "df45DST['Current']=df45DST['Current'].div(1000).round(4)\n",
        "sum_current = pd.DataFrame(integrate.cumtrapz(df45DST['Current']))\n",
        "sum_current=sum_current.fillna(sum_current.mean())\n",
        "df45DST['sum_current']=sum_current\n",
        "df30DST=pd.read_excel('/content/drive/MyDrive/Prashant_Data-20220617T061411Z-001/Prashant_Data/30.xlsx',sheet_name='FUDS')\n",
        "df30DST.insert(5,'temp',30)\n",
        "df30DST['Current']=df30DST['Current'].div(1000).round(4)\n",
        "sum_current = pd.DataFrame(integrate.cumtrapz(df30DST['Current']))\n",
        "sum_current=sum_current.fillna(sum_current.mean())\n",
        "df30DST['sum_current']=sum_current\n",
        "train=pd.concat([df5DST,dfN5DST,df45DST,df30DST],axis=0)\n",
        "train['sum_current']=train['sum_current'].fillna(train['sum_current'].mean())\n",
        "#train\n",
        "#df5FUDS = pd.read_excel('/content/drive/MyDrive/Prashant_Data-20220617T061411Z-001/Prashant_Data/5.xlsx',sheet_name='DST')\n",
        "#df5FUDS.insert(5,'temp',5)\n",
        "#df5FUDS['Current']=df5FUDS['Current'].div(1000).round(4)\n",
        "#sum_current = pd.DataFrame(integrate.cumtrapz(df5FUDS['Current']))\n",
        "#sum_current=sum_current.fillna(sum_current.mean())\n",
        "#df5FUDS['sum_current']=sum_current\n",
        "#dfN5FUDS = pd.read_excel('/content/drive/MyDrive/Prashant_Data-20220617T061411Z-001/Prashant_Data/N5.xlsx',sheet_name='DST')\n",
        "#dfN5FUDS.insert(5,'temp',-5)\n",
        "#dfN5FUDS['Current']=dfN5FUDS['Current'].div(1000).round(4)\n",
        "#sum_current = pd.DataFrame(integrate.cumtrapz(dfN5FUDS['Current']))\n",
        "#sum_current=sum_current.fillna(sum_current.mean())\n",
        "#dfN5FUDS['sum_current']=sum_current\n",
        "#df45FUDS =pd.read_excel('/content/drive/MyDrive/Prashant_Data-20220617T061411Z-001/Prashant_Data/45.xlsx',sheet_name='DST')\n",
        "#df45FUDS.insert(5,'temp',45)\n",
        "#df45FUDS['Current'] =df45FUDS['Current'].div(1000).round(4)\n",
        "#sum_current = pd.DataFrame(integrate.cumtrapz(df45FUDS['Current']))\n",
        "#sum_current=sum_current.fillna(sum_current.mean())\n",
        "#df45FUDS['sum_current']=sum_current\n",
        "#df30FUDS = pd.read_excel('/content/drive/MyDrive/Prashant_Data-20220617T061411Z-001/Prashant_Data/30.xlsx',sheet_name='DST')\n",
        "#df30FUDS.insert(5,'temp',30)\n",
        "#df30FUDS['Current']=df30FUDS['Current'].div(1000).round(4)\n",
        "#sum_current = pd.DataFrame(integrate.cumtrapz(df30FUDS['Current']))\n",
        "#sum_current=sum_current.fillna(sum_current.mean())\n",
        "#df30FUDS['sum_current']=sum_current\n",
        "#test = pd.concat([df5FUDS,dfN5FUDS,df45FUDS,df30FUDS],axis=0)\n",
        "#test['sum_current']=test['sum_current'].fillna(test['sum_current'].mean())\n",
        "#test\n",
        "x_train,y_train=train.drop('SoC',axis=1).drop('Energy',axis=1).drop('Time',axis=1).drop('Capacity',axis=1).drop('SoE',axis=1).drop('sum_current',axis=1),train['SoC']\n",
        "#x_test,y_test=test.drop('SoC',axis=1).drop('Energy',axis=1).drop('Time',axis=1).drop('Capacity',axis=1).drop('SoE',axis=1).drop('sum_current',axis=1),test['SoC']\n",
        "#x_train=x_train.fillna(x_train.mean())\n",
        "#x_test=x_test.fillna(x_test.mean())\n",
        "#train_max_scaled = train['sum_current']/train['sum_current'].abs().max()\n",
        "#train_min_scaled = train['sum_current']/train['sum_current'].abs().min()\n",
        "#test_max_scaled = test['sum_current']/test['sum_current'].abs().max()\n",
        "#test_min_scaled = test['sum_current']/test['sum_current'].abs().min()\n",
        "#train_min_max=(train['sum_current'] - train['sum_current'].min()) / (train['sum_current'].max() - train['sum_current'].min())\n",
        "#test_min_max=(test['sum_current'] - test['sum_current'].min()) / (test['sum_current'].max() - test['sum_current'].min())      \n",
        "  \n",
        "#soe=100-Energy\n",
        "\n",
        "\n",
        "\n",
        "\n",
        "\n",
        "#median_voltage = math.floor(.voltage.median())\n",
        "#median_voltage\n",
        "\n",
        "\n",
        "\n",
        "\n",
        "\n"
      ]
    },
    {
      "cell_type": "code",
      "source": [
        "df5FUDS = pd.read_excel('/content/drive/MyDrive/Prashant_Data-20220617T061411Z-001/Prashant_Data/5.xlsx',sheet_name='DST')\n",
        "df5FUDS.insert(5,'temp',5)\n",
        "df5FUDS['Current']=df5FUDS['Current'].div(1000).round(4)\n",
        "sum_current = pd.DataFrame(integrate.cumtrapz(df5FUDS['Current']))\n",
        "sum_current=sum_current.fillna(sum_current.mean())\n",
        "df5FUDS['sum_current']=sum_current\n",
        "dfN5FUDS = pd.read_excel('/content/drive/MyDrive/Prashant_Data-20220617T061411Z-001/Prashant_Data/N5.xlsx',sheet_name='DST')\n",
        "dfN5FUDS.insert(5,'temp',-5)\n",
        "dfN5FUDS['Current']=dfN5FUDS['Current'].div(1000).round(4)\n",
        "sum_current = pd.DataFrame(integrate.cumtrapz(dfN5FUDS['Current']))\n",
        "sum_current=sum_current.fillna(sum_current.mean())\n",
        "dfN5FUDS['sum_current']=sum_current\n",
        "df45FUDS =pd.read_excel('/content/drive/MyDrive/Prashant_Data-20220617T061411Z-001/Prashant_Data/45.xlsx',sheet_name='DST')\n",
        "df45FUDS.insert(5,'temp',45)\n",
        "df45FUDS['Current'] =df45FUDS['Current'].div(1000).round(4)\n",
        "sum_current = pd.DataFrame(integrate.cumtrapz(df45FUDS['Current']))\n",
        "sum_current=sum_current.fillna(sum_current.mean())\n",
        "df45FUDS['sum_current']=sum_current\n",
        "df30FUDS = pd.read_excel('/content/drive/MyDrive/Prashant_Data-20220617T061411Z-001/Prashant_Data/30.xlsx',sheet_name='DST')\n",
        "df30FUDS.insert(5,'temp',30)\n",
        "df30FUDS['Current']=df30FUDS['Current'].div(1000).round(4)\n",
        "sum_current = pd.DataFrame(integrate.cumtrapz(df30FUDS['Current']))\n",
        "sum_current=sum_current.fillna(sum_current.mean())\n",
        "df30FUDS['sum_current']=sum_current\n",
        "test = pd.concat([df5FUDS,dfN5FUDS,df45FUDS,df30FUDS],axis=0)\n",
        "test['sum_current']=test['sum_current'].fillna(test['sum_current'].mean())\n",
        "x_test,y_test=test.drop('SoC',axis=1).drop('Energy',axis=1).drop('Time',axis=1).drop('Capacity',axis=1).drop('SoE',axis=1).drop('sum_current',axis=1),test['SoC']\n",
        "#x_test=x_test.fillna(x_test.mean())"
      ],
      "metadata": {
        "id": "dWyjL6iUHzMQ"
      },
      "execution_count": null,
      "outputs": []
    },
    {
      "cell_type": "code",
      "source": [
        "y_test"
      ],
      "metadata": {
        "colab": {
          "base_uri": "https://localhost:8080/"
        },
        "id": "criiJIoeiNZU",
        "outputId": "07592bcc-65f5-4e85-894a-9b6e5af91b75"
      },
      "execution_count": null,
      "outputs": [
        {
          "output_type": "execute_result",
          "data": {
            "text/plain": [
              "0        100.000000\n",
              "1        100.000000\n",
              "2        100.000000\n",
              "3        100.000000\n",
              "4        100.000000\n",
              "            ...    \n",
              "24482      0.872584\n",
              "24483      0.851126\n",
              "24484      0.829970\n",
              "24485      0.809101\n",
              "24486      0.788271\n",
              "Name: SoE, Length: 88810, dtype: float64"
            ]
          },
          "metadata": {},
          "execution_count": 9
        }
      ]
    },
    {
      "cell_type": "code",
      "execution_count": null,
      "metadata": {
        "id": "2DEGiEhHDsEm",
        "colab": {
          "base_uri": "https://localhost:8080/"
        },
        "outputId": "ac5ac8e6-65be-4f20-a443-0c852ca9d501"
      },
      "outputs": [
        {
          "output_type": "stream",
          "name": "stderr",
          "text": [
            "/usr/local/lib/python3.7/dist-packages/sklearn/linear_model/_base.py:145: FutureWarning: 'normalize' was deprecated in version 1.0 and will be removed in 1.2.\n",
            "If you wish to scale the data, use Pipeline with a StandardScaler in a preprocessing stage. To reproduce the previous behavior:\n",
            "\n",
            "from sklearn.pipeline import make_pipeline\n",
            "\n",
            "model = make_pipeline(StandardScaler(with_mean=False), Ridge())\n",
            "\n",
            "If you wish to pass a sample_weight parameter, you need to pass it as a fit parameter to each step of the pipeline as follows:\n",
            "\n",
            "kwargs = {s[0] + '__sample_weight': sample_weight for s in model.steps}\n",
            "model.fit(X, y, **kwargs)\n",
            "\n",
            "Set parameter alpha to: original_alpha * n_samples. \n",
            "  FutureWarning,\n"
          ]
        }
      ],
      "source": [
        "\n",
        "#regr=ElasticNet(alpha=1)\n",
        "#regr.fit(x_train,y_train)\n",
        "#pred=regr.predict(x_test)\n",
        "model =make_pipeline(StandardScaler(with_mean=False), Ridge(alpha = 0.1, normalize = True, tol = 0.001, \\\n",
        "             solver ='auto', random_state = 42))\n",
        "model.fit(x_train,y_train)\n",
        "pred=model.predict(x_test)\n",
        "#poly = PolynomialFeatures(degree = 4)\n",
        "#x_train = poly.fit_transform(x_train)\n",
        " \n",
        "#poly.fit(x_train, y_train)\n",
        "#regr = LinearRegression()\n",
        "#regr.fit(x_train, y_train)\n",
        "#pred=regr.predict(x_test)\n",
        "#regr=LinearRegression()\n",
        "#regr.fit(x_train,y_train)\n",
        "#pred=regr.predict(x_test)\n",
        "#regr=SVR(kernel='linear')\n",
        "#regr.fit(x_train,y_train)\n",
        "#pred=regr.predict(x_test)\n",
        "#sel = SelectFromModel(RandomForestRegressor(n_estimators = 100))\n",
        "#sel.fit(x_train, y_train)\n",
        "#sel.get_support()\n",
        "#selected_feat= x_train.columns[(sel.get_support())]\n",
        "#len(selected_feat)\n",
        "#print(selected_feat)\n",
        "#gini=RandomForestRegressor(n_estimators=1000,max_features = 'log2', max_depth=1024,criterion='squared_error',min_samples_leaf=4,random_state=1000)\n",
        "#gini.fit(x_train,y_train)\n",
        "#pred=gini.predict(x_test)\n",
        "#mr=BayesianRidge()\n",
        "#mr.fit(x_train,y_train)\n",
        "#pred=mr.predict(x_test)\n",
        "#pr=PoissonRegressor()\n",
        "#pr.fit(x_train,y_train)\n",
        "#pred=pr.predict(x_test)\n",
        "#knn=KNeighborsRegressor(n_neighbors=8)\n",
        "#knn.fit(x_train,y_train)\n",
        "#pred=knn.predict(x_test)"
      ]
    },
    {
      "cell_type": "code",
      "execution_count": null,
      "metadata": {
        "colab": {
          "base_uri": "https://localhost:8080/"
        },
        "id": "sGLmU6shdsEj",
        "outputId": "68dd8b76-063e-4a38-fa78-6f3f1ffe2bab"
      },
      "outputs": [
        {
          "output_type": "execute_result",
          "data": {
            "text/plain": [
              "array([100.        , 100.        , 100.        , ...,  17.78419935,\n",
              "        17.75968954,  17.73517974])"
            ]
          },
          "metadata": {},
          "execution_count": 20
        }
      ],
      "source": [
        "y_test =np.array(y_test)\n",
        "y_test\n"
      ]
    },
    {
      "cell_type": "code",
      "execution_count": null,
      "metadata": {
        "colab": {
          "base_uri": "https://localhost:8080/",
          "height": 267
        },
        "id": "WFNgAlJbm5DL",
        "outputId": "933e4eb1-eb8c-4791-b184-b93eb02d7bf4"
      },
      "outputs": [
        {
          "output_type": "display_data",
          "data": {
            "text/plain": [
              "<Figure size 432x288 with 1 Axes>"
            ],
            "image/png": "[encoded data removed]"
          },
          "metadata": {
            "needs_background": "light"
          }
        }
      ],
      "source": [
        "from_num =None\n",
        "to_num =None\n",
        "\n",
        "\n",
        "plt.plot(pred[from_num:to_num],'r')\n",
        "plt.plot(y_test[from_num:to_num],'b')\n",
        "plt.show() "
      ]
    },
    {
      "cell_type": "code",
      "execution_count": null,
      "metadata": {
        "colab": {
          "base_uri": "https://localhost:8080/"
        },
        "id": "7GW_SQtz5H9R",
        "outputId": "6d08d536-2b64-401e-e7eb-d6f4a07aad80"
      },
      "outputs": [
        {
          "output_type": "stream",
          "name": "stdout",
          "text": [
            "468.1966472722628\n",
            "3613.9309148736947\n"
          ]
        }
      ],
      "source": [
        "print(mean_absolute_error(pred,y_test)*100)\n",
        "\n",
        "print(mean_squared_error(pred,y_test)*100)"
      ]
    },
    {
      "cell_type": "code",
      "execution_count": null,
      "metadata": {
        "id": "59Qy6NT23j5A"
      },
      "outputs": [],
      "source": [
        "df5WLTS = pd.read_excel('/content/drive/MyDrive/Prashant_Data-20220617T061411Z-001/Prashant_Data/5.xlsx',sheet_name='WLTS')\n",
        "df5WLTS.insert(5,'temp',5)\n",
        "df5WLTS['Current']=df5WLTS['Current'].div(1000).round(4)\n",
        "sum_current = pd.DataFrame(integrate.cumtrapz(df5WLTS['Current']))\n",
        "df5WLTS['sum_current']=sum_current\n",
        "dfN5WLTS = pd.read_excel('/content/drive/MyDrive/Prashant_Data-20220617T061411Z-001/Prashant_Data/N5.xlsx',sheet_name='WLTS')\n",
        "dfN5WLTS.insert(5,'temp',-5)\n",
        "dfN5WLTS['Current']=dfN5WLTS['Current'].div(1000).round(4)\n",
        "sum_current = pd.DataFrame(integrate.cumtrapz(dfN5WLTS['Current']))\n",
        "dfN5WLTS['sum_current']=sum_current\n",
        "df45WLTS =pd.read_excel('/content/drive/MyDrive/Prashant_Data-20220617T061411Z-001/Prashant_Data/45.xlsx',sheet_name='WLTS')\n",
        "df45WLTS.insert(5,'temp',45)\n",
        "df45WLTS['Current']=df45WLTS['Current'].div(1000).round(4)\n",
        "sum_current = pd.DataFrame(integrate.cumtrapz(df45WLTS['Current']))\n",
        "df45WLTS['sum_current']=sum_current\n",
        "df30WLTS = pd.read_excel('/content/drive/MyDrive/Prashant_Data-20220617T061411Z-001/Prashant_Data/30.xlsx',sheet_name='WLTS')\n",
        "df30WLTS.insert(5,'temp',30)\n",
        "df30WLTS['Current']=df30WLTS['Current'].div(1000).round(4)\n",
        "sum_current = pd.DataFrame(integrate.cumtrapz(df30WLTS['Current']))\n",
        "df30WLTS['sum_current']=sum_current\n",
        "power = pd.concat([df5WLTS,dfN5WLTS,df45WLTS,df30WLTS],axis=0)\n",
        "power['sum_current']=power['sum_current'].fillna(power['sum_current'].mean())\n",
        "x_test,y_test=power.drop('SoC',axis=1).drop('Energy',axis=1).drop('Time',axis=1).drop('Capacity',axis=1).drop('SoE',axis=1).drop('sum_current',axis=1),power['SoC']\n",
        "#power_min_max=(power['sum_current'] - power['sum_current'].min()) / (power['sum_current'].max() - power['sum_current'].min())\n",
        "#x_test=x_test.fillna(x_test.mean())\n",
        "#power_min_max\n",
        "#pred = xgb_r.predict(x_test)\n",
        "#x_test=poly.fit_transform(x_test)\n",
        "#pred=regr.predict(x_test)\n",
        "#pred=gini.predict(x_test)"
      ]
    },
    {
      "cell_type": "code",
      "source": [
        "model =make_pipeline(StandardScaler(with_mean=False), Ridge(alpha = 0.1, normalize = True, tol = 0.001, \\\n",
        "             solver ='auto', random_state = 42))\n",
        "model.fit(x_train,y_train)\n",
        "pred=model.predict(x_test)\n",
        "#mr=BayesianRidge()\n",
        "#mr.fit(x_train,y_train)\n",
        "#pred=mr.predict(x_test)\n",
        "\n",
        "#knn=KNeighborsRegressor(n_neighbors=8)\n",
        "#knn.fit(x_train,y_train)\n",
        "#pred=knn.predict(x_test)\n",
        "#regr = LinearRegression()\n",
        "#regr.fit(x_train, y_train)\n",
        "#pred=regr.predict(x_test)"
      ],
      "metadata": {
        "id": "_DrZfBQ9eA3n",
        "colab": {
          "base_uri": "https://localhost:8080/"
        },
        "outputId": "b63e174e-47bb-496b-afed-f87305a61e55"
      },
      "execution_count": null,
      "outputs": [
        {
          "output_type": "stream",
          "name": "stderr",
          "text": [
            "/usr/local/lib/python3.7/dist-packages/sklearn/linear_model/_base.py:145: FutureWarning: 'normalize' was deprecated in version 1.0 and will be removed in 1.2.\n",
            "If you wish to scale the data, use Pipeline with a StandardScaler in a preprocessing stage. To reproduce the previous behavior:\n",
            "\n",
            "from sklearn.pipeline import make_pipeline\n",
            "\n",
            "model = make_pipeline(StandardScaler(with_mean=False), Ridge())\n",
            "\n",
            "If you wish to pass a sample_weight parameter, you need to pass it as a fit parameter to each step of the pipeline as follows:\n",
            "\n",
            "kwargs = {s[0] + '__sample_weight': sample_weight for s in model.steps}\n",
            "model.fit(X, y, **kwargs)\n",
            "\n",
            "Set parameter alpha to: original_alpha * n_samples. \n",
            "  FutureWarning,\n"
          ]
        }
      ]
    },
    {
      "cell_type": "code",
      "execution_count": null,
      "metadata": {
        "colab": {
          "base_uri": "https://localhost:8080/"
        },
        "id": "jpNjwS4-VV1h",
        "outputId": "e08d5c95-e4b1-4079-979c-fc345ace1e4b"
      },
      "outputs": [
        {
          "output_type": "execute_result",
          "data": {
            "text/plain": [
              "array([103.0804698 , 103.0804698 , 103.09261781, ..., -11.6134633 ,\n",
              "       -13.44491119, -14.8378738 ])"
            ]
          },
          "metadata": {},
          "execution_count": 25
        }
      ],
      "source": [
        "\n",
        "y_test =np.array(y_test)\n",
        "y_test\n",
        "pred"
      ]
    },
    {
      "cell_type": "code",
      "execution_count": null,
      "metadata": {
        "colab": {
          "base_uri": "https://localhost:8080/",
          "height": 265
        },
        "id": "5jVH3FPFGJcz",
        "outputId": "b45952b0-a09a-4af6-e6e9-2dec0e604d09"
      },
      "outputs": [
        {
          "output_type": "display_data",
          "data": {
            "text/plain": [
              "<Figure size 432x288 with 1 Axes>"
            ],
            "image/png": "[encoded data removed]"
          },
          "metadata": {
            "needs_background": "light"
          }
        }
      ],
      "source": [
        "from_num =None\n",
        "to_num =None\n",
        "\n",
        "plt.plot(pred[from_num:to_num],'r')\n",
        "plt.plot(y_test[from_num:to_num],'b')\n",
        "plt.show()"
      ]
    },
    {
      "cell_type": "code",
      "execution_count": null,
      "metadata": {
        "colab": {
          "base_uri": "https://localhost:8080/"
        },
        "id": "EsaiBnIS9qPc",
        "outputId": "6df1bb34-8bae-4af4-f575-37bc00381775"
      },
      "outputs": [
        {
          "output_type": "stream",
          "name": "stdout",
          "text": [
            "5.101495180745507\n",
            "40.94893194690186\n"
          ]
        }
      ],
      "source": [
        "print(mean_absolute_error(pred,y_test))\n",
        "\n",
        "print(mean_squared_error(pred,y_test))"
      ]
    },
    {
      "cell_type": "code",
      "execution_count": null,
      "metadata": {
        "id": "dMJNemw6-Su-",
        "colab": {
          "base_uri": "https://localhost:8080/"
        },
        "outputId": "62aeda92-b4f4-40a2-b0f9-e21d6c0aa5d7"
      },
      "outputs": [
        {
          "output_type": "stream",
          "name": "stdout",
          "text": [
            "          Time  Current  Voltage    Capacity      Energy  temp         SoC  \\\n",
            "0          1.0      0.0   4.1350    0.000000    0.000000     5  100.000000   \n",
            "1          2.0    -53.5   4.1238    0.011306    0.046667     5   99.999563   \n",
            "2          3.0    -57.2   4.1210    0.026861    0.110778     5   99.999096   \n",
            "3          4.0    -59.5   4.1201    0.043139    0.177889     5   99.998609   \n",
            "4          5.0    -60.2   4.1189    0.059778    0.246444     5   99.998118   \n",
            "...        ...      ...      ...         ...         ...   ...         ...   \n",
            "24257  24258.0   -956.1   2.5607  133.971806  385.549611    30   16.058999   \n",
            "24258  24259.0   -852.6   2.5579  134.209056  386.157528    30   16.052033   \n",
            "24259  24260.0   -780.5   2.5582  134.425583  386.711806    30   16.045657   \n",
            "24260  24261.0   -864.5   2.5365  134.666278  387.323861    30   16.038594   \n",
            "24261  24262.0  -1223.2   2.4968  134.768167  387.578778    30   16.028600   \n",
            "\n",
            "              SoE  sum_current  \n",
            "0      100.000000       -26.75  \n",
            "1       99.999489       -82.10  \n",
            "2       99.998944      -140.45  \n",
            "3       99.998376      -200.30  \n",
            "4       99.997802      -260.90  \n",
            "...           ...          ...  \n",
            "24257   21.065871 -10274775.45  \n",
            "24258   21.061211 -10275592.00  \n",
            "24259   21.056944 -10276414.50  \n",
            "24260   21.052259 -10277458.35  \n",
            "24261   21.045733          NaN  \n",
            "\n",
            "[87345 rows x 9 columns]\n"
          ]
        }
      ],
      "source": [
        "df5UDDS = pd.read_excel('/content/drive/MyDrive/Prashant_Data-20220617T061411Z-001/Prashant_Data/5.xlsx',sheet_name='UDDS')\n",
        "df5UDDS.insert(5,'temp',5)\n",
        "sum_current = pd.DataFrame(integrate.cumtrapz(df5UDDS['Current']))\n",
        "df5UDDS['sum_current']=sum_current\n",
        "dfN5UDDS = pd.read_excel('/content/drive/MyDrive/Prashant_Data-20220617T061411Z-001/Prashant_Data/N5.xlsx',sheet_name='UDDS')\n",
        "dfN5UDDS.insert(5,'temp',-5)\n",
        "sum_current = pd.DataFrame(integrate.cumtrapz(dfN5UDDS['Current']))\n",
        "dfN5UDDS['sum_current']=sum_current\n",
        "df45UDDS =pd.read_excel('/content/drive/MyDrive/Prashant_Data-20220617T061411Z-001/Prashant_Data/45.xlsx',sheet_name='UDDS')\n",
        "df45UDDS.insert(5,'temp',45)\n",
        "sum_current = pd.DataFrame(integrate.cumtrapz(df45UDDS['Current']))\n",
        "df45UDDS['sum_current']=sum_current\n",
        "df30UDDS = pd.read_excel('/content/drive/MyDrive/Prashant_Data-20220617T061411Z-001/Prashant_Data/30.xlsx',sheet_name='UDDS')\n",
        "df30UDDS.insert(5,'temp',30)\n",
        "sum_current = pd.DataFrame(integrate.cumtrapz(df30UDDS['Current']))\n",
        "df30UDDS['sum_current']=sum_current\n",
        "glass = pd.concat([df5UDDS,dfN5UDDS,df45UDDS,df30UDDS],axis=0)\n",
        "print(glass)\n",
        "#x_test,y_test=glass.drop('SoC',axis=1).drop('Energy',axis=1).drop('Time',axis=1).drop('Capacity',axis=1),glass['SoE']\n",
        "#glass_min_max=(glass['sum_current'] - glass['sum_current'].min()) / (glass['sum_current'].max() - glass['sum_current'].min())\n",
        "#glass_min_max\n",
        "#pred = xgb_r.predict(x_test)\n",
        "#x_test=poly.fit_transform(x_test)\n",
        "#pred=regr.predict(x_test)\n",
        "#test.isnull().sum()\n",
        "#test = test.astype(float)\n",
        "#x_test=x_test.astype(float)\n",
        "#pred=gini.predict(x_test)\n",
        "#test[''] = test['voltage'].astype(float)\n"
      ]
    },
    {
      "cell_type": "code",
      "source": [
        "model =make_pipeline(StandardScaler(with_mean=False), Ridge(alpha = 0.1, normalize = True, tol = 0.001, \\\n",
        "             solver ='auto', random_state = 42))\n",
        "model.fit(x_train,y_train)\n",
        "pred=model.predict(x_test)\n",
        "#model = Ridge(alpha = 0.5, normalize = True, tol = 0.001, \\\n",
        "   #          solver ='auto', random_state = 42)\n",
        "#model.fit(x_train,y_train)\n",
        "#pred=model.predict(x_test)\n",
        "#mr=BayesianRidge()\n",
        "#mr.fit(x_train,y_train)\n",
        "#pred=mr.predict(x_test)\n",
        "#knn=KNeighborsRegressor(n_neighbors=8)\n",
        "#knn.fit(x_train,y_train)\n",
        "#pred=knn.predict(x_test)\n",
        "#regr = LinearRegression()\n",
        "#regr.fit(x_train, y_train)\n",
        "#pred=regr.predict(x_test)"
      ],
      "metadata": {
        "id": "JBCmYbbxgwwU",
        "colab": {
          "base_uri": "https://localhost:8080/"
        },
        "outputId": "d34c0ccc-6711-438b-abf8-190fc12e5831"
      },
      "execution_count": null,
      "outputs": [
        {
          "output_type": "stream",
          "name": "stderr",
          "text": [
            "/usr/local/lib/python3.7/dist-packages/sklearn/linear_model/_base.py:145: FutureWarning: 'normalize' was deprecated in version 1.0 and will be removed in 1.2.\n",
            "If you wish to scale the data, use Pipeline with a StandardScaler in a preprocessing stage. To reproduce the previous behavior:\n",
            "\n",
            "from sklearn.pipeline import make_pipeline\n",
            "\n",
            "model = make_pipeline(StandardScaler(with_mean=False), Ridge())\n",
            "\n",
            "If you wish to pass a sample_weight parameter, you need to pass it as a fit parameter to each step of the pipeline as follows:\n",
            "\n",
            "kwargs = {s[0] + '__sample_weight': sample_weight for s in model.steps}\n",
            "model.fit(X, y, **kwargs)\n",
            "\n",
            "Set parameter alpha to: original_alpha * n_samples. \n",
            "  FutureWarning,\n"
          ]
        }
      ]
    },
    {
      "cell_type": "code",
      "source": [
        "y_test =np.array(y_test)\n",
        "y_test\n",
        "pred"
      ],
      "metadata": {
        "id": "n5TngFzpg1yU",
        "colab": {
          "base_uri": "https://localhost:8080/"
        },
        "outputId": "6c7e90ee-be82-4cdf-f673-204e764984df"
      },
      "execution_count": null,
      "outputs": [
        {
          "output_type": "execute_result",
          "data": {
            "text/plain": [
              "array([103.0804698 , 103.0804698 , 103.09261781, ..., -11.6134633 ,\n",
              "       -13.44491119, -14.8378738 ])"
            ]
          },
          "metadata": {},
          "execution_count": 30
        }
      ]
    },
    {
      "cell_type": "code",
      "source": [
        "from_num =None\n",
        "to_num =None\n",
        "\n",
        "plt.plot(pred[from_num:to_num],'r')\n",
        "plt.plot(y_test[from_num:to_num],'b')\n",
        "plt.show()"
      ],
      "metadata": {
        "id": "_GQEk_aig50X",
        "colab": {
          "base_uri": "https://localhost:8080/",
          "height": 265
        },
        "outputId": "a526fe70-0003-4c9a-e4e9-7dc37d40327e"
      },
      "execution_count": null,
      "outputs": [
        {
          "output_type": "display_data",
          "data": {
            "text/plain": [
              "<Figure size 432x288 with 1 Axes>"
            ],
            "image/png": "[encoded data removed]"
          },
          "metadata": {
            "needs_background": "light"
          }
        }
      ]
    },
    {
      "cell_type": "code",
      "source": [
        "print(mean_absolute_error(pred,y_test))\n",
        "\n",
        "print(mean_squared_error(pred,y_test))"
      ],
      "metadata": {
        "id": "XMWmli2xhMm5",
        "colab": {
          "base_uri": "https://localhost:8080/"
        },
        "outputId": "462b9597-8368-4761-bd25-c745fd5b0e14"
      },
      "execution_count": null,
      "outputs": [
        {
          "output_type": "stream",
          "name": "stdout",
          "text": [
            "5.101495180745507\n",
            "40.94893194690186\n"
          ]
        }
      ]
    },
    {
      "cell_type": "code",
      "execution_count": null,
      "metadata": {
        "id": "O09Upr3h0bep",
        "colab": {
          "base_uri": "https://localhost:8080/"
        },
        "outputId": "045aad5b-dcff-4a2e-e543-eb4c76c6ad77"
      },
      "outputs": [
        {
          "output_type": "stream",
          "name": "stdout",
          "text": [
            "       Current  Voltage  temp\n",
            "0       -411.4   4.0969     5\n",
            "1       -412.2   4.0590     5\n",
            "2      -1712.0   3.8523     5\n",
            "3      -2122.0   3.7896     5\n",
            "4      -2121.2   3.7822     5\n",
            "...        ...      ...   ...\n",
            "15776  -2030.5   2.6500    30\n",
            "15777  -2200.1   2.5812    30\n",
            "15778  -2102.6   2.5477    30\n",
            "15779  -2081.8   2.5195    30\n",
            "15780  -2361.6   2.4959    30\n",
            "\n",
            "[63245 rows x 3 columns]\n"
          ]
        }
      ],
      "source": [
        "df5US06 = pd.read_excel('/content/drive/MyDrive/Prashant_Data-20220617T061411Z-001/Prashant_Data/5.xlsx',sheet_name='US06')\n",
        "df5US06.insert(5,'temp',5)\n",
        "sum_current = pd.DataFrame(integrate.cumtrapz(df5US06['Current']))\n",
        "df5US06['sum_current']=sum_current\n",
        "dfN5US06 = pd.read_excel('/content/drive/MyDrive/Prashant_Data-20220617T061411Z-001/Prashant_Data/N5.xlsx',sheet_name='US06')\n",
        "dfN5US06.insert(5,'temp',-5)\n",
        "sum_current = pd.DataFrame(integrate.cumtrapz(dfN5US06['Current']))\n",
        "dfN5US06['sum_current']=sum_current\n",
        "df45US06 =pd.read_excel('/content/drive/MyDrive/Prashant_Data-20220617T061411Z-001/Prashant_Data/45.xlsx',sheet_name='US06')\n",
        "df45US06.insert(5,'temp',45)\n",
        "sum_current = pd.DataFrame(integrate.cumtrapz(df45US06['Current']))\n",
        "df45US06['sum_current']=sum_current\n",
        "df30US06 = pd.read_excel('/content/drive/MyDrive/Prashant_Data-20220617T061411Z-001/Prashant_Data/30.xlsx',sheet_name='US06')\n",
        "df30US06.insert(5,'temp',30)\n",
        "sum_current = pd.DataFrame(integrate.cumtrapz(df30US06['Current']))\n",
        "df30US06['sum_current']=sum_current\n",
        "light = pd.concat([df5US06,dfN5US06,df45US06,df30US06],axis=0)\n",
        "light['sum_current']=light['sum_current'].fillna(light['sum_current'].mean())\n",
        "#test\n",
        "x_test,y_test=light.drop('SoC',axis=1).drop('Energy',axis=1).drop('Time',axis=1).drop('Capacity',axis=1).drop('SoE',axis=1).drop('sum_current',axis=1),light['SoE']\n",
        "#light_min_max=(light['sum_current'] - light['sum_current'].min()) / (light['sum_current'].max() - light['sum_current'].min())\n",
        "\n",
        "#light_min_max\n",
        "print(x_test)\n",
        "#pred = xgb_r.predict(x_test)\n",
        "#x_test=poly.fit_transform(x_test)\n",
        "#pred=regr.predict(x_test)\n",
        "\n",
        "#pred=gini.predict(x_test)"
      ]
    },
    {
      "cell_type": "code",
      "source": [
        "model =make_pipeline(StandardScaler(with_mean=False), Ridge(alpha = 0.1, normalize = True, tol = 0.001, \\\n",
        "             solver ='auto', random_state = 42))\n",
        "model.fit(x_train,y_train)\n",
        "pred=model.predict(x_test,)\n",
        "#model = Ridge(alpha = 0.5, normalize = True, tol = 0.001, \\\n",
        " #            solver ='auto', random_state = 42)\n",
        "#model.fit(x_train,y_train)\n",
        "#pred=model.predict(x_test)\n",
        "#mr=BayesianRidge()\n",
        "#mr.fit(x_train,y_train)\n",
        "#pred=mr.predict(x_test)\n",
        "#knn=KNeighborsRegressor(n_neighbors=8)\n",
        "#knn.fit(x_train,y_train)\n",
        "#pred=knn.predict(x_test)\n",
        "#regr = LinearRegression()\n",
        "#regr.fit(x_train, y_train)\n",
        "#pred=regr.predict(x_test)\n",
        "#mr=BayesianRidge()\n",
        "#mr.fit(x_train,y_train)\n",
        "#pred=mr.predict(x_test)"
      ],
      "metadata": {
        "id": "_ZN6tZgmDaJj",
        "colab": {
          "base_uri": "https://localhost:8080/"
        },
        "outputId": "fd6e2a2e-b683-42e7-956d-b78f76a6164f"
      },
      "execution_count": null,
      "outputs": [
        {
          "output_type": "stream",
          "name": "stderr",
          "text": [
            "/usr/local/lib/python3.7/dist-packages/sklearn/linear_model/_base.py:145: FutureWarning: 'normalize' was deprecated in version 1.0 and will be removed in 1.2.\n",
            "If you wish to scale the data, use Pipeline with a StandardScaler in a preprocessing stage. To reproduce the previous behavior:\n",
            "\n",
            "from sklearn.pipeline import make_pipeline\n",
            "\n",
            "model = make_pipeline(StandardScaler(with_mean=False), Ridge())\n",
            "\n",
            "If you wish to pass a sample_weight parameter, you need to pass it as a fit parameter to each step of the pipeline as follows:\n",
            "\n",
            "kwargs = {s[0] + '__sample_weight': sample_weight for s in model.steps}\n",
            "model.fit(X, y, **kwargs)\n",
            "\n",
            "Set parameter alpha to: original_alpha * n_samples. \n",
            "  FutureWarning,\n"
          ]
        }
      ]
    },
    {
      "cell_type": "code",
      "execution_count": null,
      "metadata": {
        "colab": {
          "base_uri": "https://localhost:8080/",
          "height": 424
        },
        "id": "r0g0-T9heRmi",
        "outputId": "55fc3200-7cf2-4d5f-a605-be8baeb621c8"
      },
      "outputs": [
        {
          "output_type": "execute_result",
          "data": {
            "text/plain": [
              "       Current  Voltage  temp   sum_current\n",
              "0       1.3296   4.2373     5      1.330350\n",
              "1       1.3311   4.3554     5      2.571000\n",
              "2       1.1502   4.3684     5      3.566450\n",
              "3       0.8407   4.3328     5      3.981250\n",
              "4      -0.0111   4.1976     5      3.970150\n",
              "...        ...      ...   ...           ...\n",
              "19318  -4.0119   2.6057    30 -10025.858600\n",
              "19319  -4.0119   2.5632    30 -10029.135000\n",
              "19320  -2.5409   2.6336    30 -10032.406900\n",
              "19321  -4.0029   2.5424    30 -10036.410200\n",
              "19322  -4.0037   2.5000    30  -4604.478853\n",
              "\n",
              "[69654 rows x 4 columns]"
            ],
            "text/html": [
              "\n",
              "  <div id=\"df-f7280628-1444-4e2b-95fd-f153dd0b9893\">\n",
              "    <div class=\"colab-df-container\">\n",
              "      <div>\n",
              "<style scoped>\n",
              "    .dataframe tbody tr th:only-of-type {\n",
              "        vertical-align: middle;\n",
              "    }\n",
              "\n",
              "    .dataframe tbody tr th {\n",
              "        vertical-align: top;\n",
              "    }\n",
              "\n",
              "    .dataframe thead th {\n",
              "        text-align: right;\n",
              "    }\n",
              "</style>\n",
              "<table border=\"1\" class=\"dataframe\">\n",
              "  <thead>\n",
              "    <tr style=\"text-align: right;\">\n",
              "      <th></th>\n",
              "      <th>Current</th>\n",
              "      <th>Voltage</th>\n",
              "      <th>temp</th>\n",
              "      <th>sum_current</th>\n",
              "    </tr>\n",
              "  </thead>\n",
              "  <tbody>\n",
              "    <tr>\n",
              "      <th>0</th>\n",
              "      <td>1.3296</td>\n",
              "      <td>4.2373</td>\n",
              "      <td>5</td>\n",
              "      <td>1.330350</td>\n",
              "    </tr>\n",
              "    <tr>\n",
              "      <th>1</th>\n",
              "      <td>1.3311</td>\n",
              "      <td>4.3554</td>\n",
              "      <td>5</td>\n",
              "      <td>2.571000</td>\n",
              "    </tr>\n",
              "    <tr>\n",
              "      <th>2</th>\n",
              "      <td>1.1502</td>\n",
              "      <td>4.3684</td>\n",
              "      <td>5</td>\n",
              "      <td>3.566450</td>\n",
              "    </tr>\n",
              "    <tr>\n",
              "      <th>3</th>\n",
              "      <td>0.8407</td>\n",
              "      <td>4.3328</td>\n",
              "      <td>5</td>\n",
              "      <td>3.981250</td>\n",
              "    </tr>\n",
              "    <tr>\n",
              "      <th>4</th>\n",
              "      <td>-0.0111</td>\n",
              "      <td>4.1976</td>\n",
              "      <td>5</td>\n",
              "      <td>3.970150</td>\n",
              "    </tr>\n",
              "    <tr>\n",
              "      <th>...</th>\n",
              "      <td>...</td>\n",
              "      <td>...</td>\n",
              "      <td>...</td>\n",
              "      <td>...</td>\n",
              "    </tr>\n",
              "    <tr>\n",
              "      <th>19318</th>\n",
              "      <td>-4.0119</td>\n",
              "      <td>2.6057</td>\n",
              "      <td>30</td>\n",
              "      <td>-10025.858600</td>\n",
              "    </tr>\n",
              "    <tr>\n",
              "      <th>19319</th>\n",
              "      <td>-4.0119</td>\n",
              "      <td>2.5632</td>\n",
              "      <td>30</td>\n",
              "      <td>-10029.135000</td>\n",
              "    </tr>\n",
              "    <tr>\n",
              "      <th>19320</th>\n",
              "      <td>-2.5409</td>\n",
              "      <td>2.6336</td>\n",
              "      <td>30</td>\n",
              "      <td>-10032.406900</td>\n",
              "    </tr>\n",
              "    <tr>\n",
              "      <th>19321</th>\n",
              "      <td>-4.0029</td>\n",
              "      <td>2.5424</td>\n",
              "      <td>30</td>\n",
              "      <td>-10036.410200</td>\n",
              "    </tr>\n",
              "    <tr>\n",
              "      <th>19322</th>\n",
              "      <td>-4.0037</td>\n",
              "      <td>2.5000</td>\n",
              "      <td>30</td>\n",
              "      <td>-4604.478853</td>\n",
              "    </tr>\n",
              "  </tbody>\n",
              "</table>\n",
              "<p>69654 rows × 4 columns</p>\n",
              "</div>\n",
              "      <button class=\"colab-df-convert\" onclick=\"convertToInteractive('df-f7280628-1444-4e2b-95fd-f153dd0b9893')\"\n",
              "              title=\"Convert this dataframe to an interactive table.\"\n",
              "              style=\"display:none;\">\n",
              "        \n",
              "  <svg xmlns=\"http://www.w3.org/2000/svg\" height=\"24px\"viewBox=\"0 0 24 24\"\n",
              "       width=\"24px\">\n",
              "    <path d=\"M0 0h24v24H0V0z\" fill=\"none\"/>\n",
              "    <path d=\"M18.56 5.44l.94 2.06.94-2.06 2.06-.94-2.06-.94-.94-2.06-.94 2.06-2.06.94zm-11 1L8.5 8.5l.94-2.06 2.06-.94-2.06-.94L8.5 2.5l-.94 2.06-2.06.94zm10 10l.94 2.06.94-2.06 2.06-.94-2.06-.94-.94-2.06-.94 2.06-2.06.94z\"/><path d=\"M17.41 7.96l-1.37-1.37c-.4-.4-.92-.59-1.43-.59-.52 0-1.04.2-1.43.59L10.3 9.45l-7.72 7.72c-.78.78-.78 2.05 0 2.83L4 21.41c.39.39.9.59 1.41.59.51 0 1.02-.2 1.41-.59l7.78-7.78 2.81-2.81c.8-.78.8-2.07 0-2.86zM5.41 20L4 18.59l7.72-7.72 1.47 1.35L5.41 20z\"/>\n",
              "  </svg>\n",
              "      </button>\n",
              "      \n",
              "  <style>\n",
              "    .colab-df-container {\n",
              "      display:flex;\n",
              "      flex-wrap:wrap;\n",
              "      gap: 12px;\n",
              "    }\n",
              "\n",
              "    .colab-df-convert {\n",
              "      background-color: #E8F0FE;\n",
              "      border: none;\n",
              "      border-radius: 50%;\n",
              "      cursor: pointer;\n",
              "      display: none;\n",
              "      fill: #1967D2;\n",
              "      height: 32px;\n",
              "      padding: 0 0 0 0;\n",
              "      width: 32px;\n",
              "    }\n",
              "\n",
              "    .colab-df-convert:hover {\n",
              "      background-color: #E2EBFA;\n",
              "      box-shadow: 0px 1px 2px rgba(60, 64, 67, 0.3), 0px 1px 3px 1px rgba(60, 64, 67, 0.15);\n",
              "      fill: #174EA6;\n",
              "    }\n",
              "\n",
              "    [theme=dark] .colab-df-convert {\n",
              "      background-color: #3B4455;\n",
              "      fill: #D2E3FC;\n",
              "    }\n",
              "\n",
              "    [theme=dark] .colab-df-convert:hover {\n",
              "      background-color: #434B5C;\n",
              "      box-shadow: 0px 1px 3px 1px rgba(0, 0, 0, 0.15);\n",
              "      filter: drop-shadow(0px 1px 2px rgba(0, 0, 0, 0.3));\n",
              "      fill: #FFFFFF;\n",
              "    }\n",
              "  </style>\n",
              "\n",
              "      <script>\n",
              "        const buttonEl =\n",
              "          document.querySelector('#df-f7280628-1444-4e2b-95fd-f153dd0b9893 button.colab-df-convert');\n",
              "        buttonEl.style.display =\n",
              "          google.colab.kernel.accessAllowed ? 'block' : 'none';\n",
              "\n",
              "        async function convertToInteractive(key) {\n",
              "          const element = document.querySelector('#df-f7280628-1444-4e2b-95fd-f153dd0b9893');\n",
              "          const dataTable =\n",
              "            await google.colab.kernel.invokeFunction('convertToInteractive',\n",
              "                                                     [key], {});\n",
              "          if (!dataTable) return;\n",
              "\n",
              "          const docLinkHtml = 'Like what you see? Visit the ' +\n",
              "            '<a target=\"_blank\" href=https://colab.research.google.com/notebooks/data_table.ipynb>data table notebook</a>'\n",
              "            + ' to learn more about interactive tables.';\n",
              "          element.innerHTML = '';\n",
              "          dataTable['output_type'] = 'display_data';\n",
              "          await google.colab.output.renderOutput(dataTable, element);\n",
              "          const docLink = document.createElement('div');\n",
              "          docLink.innerHTML = docLinkHtml;\n",
              "          element.appendChild(docLink);\n",
              "        }\n",
              "      </script>\n",
              "    </div>\n",
              "  </div>\n",
              "  "
            ]
          },
          "metadata": {},
          "execution_count": 28
        }
      ],
      "source": [
        "x_train\n",
        "\n"
      ]
    },
    {
      "cell_type": "code",
      "source": [
        "x_test"
      ],
      "metadata": {
        "id": "K1C3MBikK8Zz"
      },
      "execution_count": null,
      "outputs": []
    },
    {
      "cell_type": "code",
      "execution_count": null,
      "metadata": {
        "colab": {
          "base_uri": "https://localhost:8080/"
        },
        "id": "quUBSJXTSXEf",
        "outputId": "10bc7bf8-c400-40c1-a0bd-c8c10bae9467"
      },
      "outputs": [
        {
          "output_type": "execute_result",
          "data": {
            "text/plain": [
              "array([ 2742.25354689,  2744.47278612, 11076.17515683, ...,\n",
              "       13476.1417351 , 13340.38768554, 15135.51137628])"
            ]
          },
          "metadata": {},
          "execution_count": 37
        }
      ],
      "source": [
        "y_test =np.array(y_test)\n",
        "y_test\n",
        "pred"
      ]
    },
    {
      "cell_type": "code",
      "execution_count": null,
      "metadata": {
        "colab": {
          "base_uri": "https://localhost:8080/",
          "height": 265
        },
        "id": "5j64FOf6SCiL",
        "outputId": "03a9d159-6054-4776-a252-4709e2e1908a"
      },
      "outputs": [
        {
          "output_type": "display_data",
          "data": {
            "text/plain": [
              "<Figure size 432x288 with 1 Axes>"
            ],
            "image/png": "[encoded data removed]"
          },
          "metadata": {
            "needs_background": "light"
          }
        }
      ],
      "source": [
        "from_num =None\n",
        "to_num =None\n",
        "\n",
        "plt.plot(pred[from_num:to_num],'r')\n",
        "plt.plot(y_test[from_num:to_num],'b')\n",
        "plt.show()"
      ]
    },
    {
      "cell_type": "code",
      "execution_count": null,
      "metadata": {
        "colab": {
          "base_uri": "https://localhost:8080/"
        },
        "id": "uQjFL_FV97lz",
        "outputId": "49cb13ce-bd00-44ec-e19c-f7999b7f1c25"
      },
      "outputs": [
        {
          "output_type": "stream",
          "name": "stdout",
          "text": [
            "5304.974321005344\n",
            "52146507.19596737\n"
          ]
        }
      ],
      "source": [
        "print(mean_absolute_error(pred,y_test))\n",
        "print(mean_squared_error(pred,y_test))"
      ]
    },
    {
      "cell_type": "code",
      "execution_count": null,
      "metadata": {
        "colab": {
          "base_uri": "https://localhost:8080/"
        },
        "id": "3RrkvUqIrV5a",
        "outputId": "b8ce8260-6fbf-4de4-ef7a-5bf3790fcee6"
      },
      "outputs": [
        {
          "data": {
            "text/plain": [
              "array([61.658676, 61.658676, 61.658676, ..., 16.726433, 16.726433,\n",
              "       16.726433], dtype=float32)"
            ]
          },
          "execution_count": 24,
          "metadata": {},
          "output_type": "execute_result"
        }
      ],
      "source": [
        "y_test =np.array(y_test)\n",
        "y_test\n",
        "pred"
      ]
    },
    {
      "cell_type": "code",
      "execution_count": null,
      "metadata": {
        "colab": {
          "base_uri": "https://localhost:8080/"
        },
        "id": "X0A6K9Zo-Tmd",
        "outputId": "036eae46-7e7e-4b28-fe02-1be9fd2fde85"
      },
      "outputs": [
        {
          "name": "stdout",
          "output_type": "stream",
          "text": [
            "20.88681611484128\n",
            "542.010210950772\n"
          ]
        }
      ],
      "source": [
        "print(mean_absolute_error(pred,y_test))\n",
        "print(mean_squared_error(pred,y_test))"
      ]
    },
    {
      "cell_type": "code",
      "execution_count": null,
      "metadata": {
        "colab": {
          "base_uri": "https://localhost:8080/",
          "height": 265
        },
        "id": "W6rUH_xFaIWz",
        "outputId": "10887971-536d-438f-d035-18cde2586adb"
      },
      "outputs": [
        {
          "data": {
            "image/png": "[encoded data removed]",
            "text/plain": [
              "<Figure size 432x288 with 1 Axes>"
            ]
          },
          "metadata": {},
          "output_type": "display_data"
        }
      ],
      "source": [
        "from_num =None\n",
        "to_num =None\n",
        "\n",
        "plt.plot(pred[from_num:to_num],'r')\n",
        "plt.plot(y_test[from_num:to_num],'b')\n",
        "plt.show()"
      ]
    },
    {
      "cell_type": "code",
      "source": [
        "y_test\n",
        "\n",
        "#plt.plot(train_min_max,'r')\n",
        "#plt.show()\n",
        "#plt.plot(test_min_max,'b')\n",
        "#plt.show()\n",
        "#plt.plot(power_min_max,'y')\n",
        "#plt.show()\n",
        "#plt.plot(light_min_max,'p')\n",
        "#plt.show()\n",
        "#plt.plot(glass_min_max,'g')\n",
        "#plt.show()"
      ],
      "metadata": {
        "colab": {
          "base_uri": "https://localhost:8080/"
        },
        "id": "qm2vrJTJ5KSe",
        "outputId": "328f3d29-39f1-4bbc-88cb-940875993841"
      },
      "execution_count": null,
      "outputs": [
        {
          "output_type": "execute_result",
          "data": {
            "text/plain": [
              "0        100.000000\n",
              "1        100.000000\n",
              "2        100.000119\n",
              "3        100.000258\n",
              "4        100.000397\n",
              "            ...    \n",
              "24275      0.148727\n",
              "24276      0.134635\n",
              "24277      0.119732\n",
              "24278      0.103261\n",
              "24279      0.085818\n",
              "Name: SoE, Length: 82145, dtype: float64"
            ]
          },
          "metadata": {},
          "execution_count": 85
        }
      ]
    },
    {
      "cell_type": "code",
      "source": [],
      "metadata": {
        "colab": {
          "base_uri": "https://localhost:8080/"
        },
        "id": "KbU6Ea3_QG-o",
        "outputId": "c6ca2477-d64e-49d7-d6ba-b54078661bf9"
      },
      "execution_count": null,
      "outputs": [
        {
          "output_type": "stream",
          "name": "stdout",
          "text": [
            "[0.   0.25 0.5  0.75 1.   1.25 1.5  1.75 2.   2.25 2.5  2.75 3.   3.25\n",
            " 3.5  3.75] [0.  0.5 1.  1.5 2.  2.5 3.  3.5 4.  4.5 5.  5.5 6.  6.5 7.  7.5]\n"
          ]
        },
        {
          "output_type": "execute_result",
          "data": {
            "text/plain": [
              "187.5"
            ]
          },
          "metadata": {},
          "execution_count": 99
        }
      ]
    },
    {
      "cell_type": "code",
      "source": [],
      "metadata": {
        "id": "QSd4qW_hQLYN"
      },
      "execution_count": null,
      "outputs": []
    }
  ],
  "metadata": {
    "accelerator": "TPU",
    "colab": {
      "provenance": [],
      "mount_file_id": "199Po3aPfocqjCvdeIrfs_hwQ41BNxKvA",
      "authorship_tag": "ABX9TyPh1PqnqFSDwgiRXmt9MFO+",
      "include_colab_link": true
    },
    "kernelspec": {
      "display_name": "Python 3",
      "name": "python3"
    },
    "language_info": {
      "name": "python"
    }
  },
  "nbformat": 4,
  "nbformat_minor": 0
}